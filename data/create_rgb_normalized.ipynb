{
 "cells": [
  {
   "cell_type": "code",
   "execution_count": 10,
   "metadata": {},
   "outputs": [],
   "source": [
    "import tensorflow as tf\n",
    "import numpy as np\n",
    "import pathlib\n",
    "import os\n",
    "import matplotlib.pyplot as plt\n",
    "import cv2\n",
    "import skimage\n",
    "from skimage import color, data, restoration\n",
    "from scipy.signal import convolve2d as conv2\n",
    "IMG_SIZE = 32\n",
    "BATCH_SIZE = 64\n",
    "\n",
    "TRAIN_DIR_PATH = \"train\"\n",
    "TEST_DIR_PATH = \"test\""
   ]
  },
  {
   "cell_type": "code",
   "execution_count": 11,
   "metadata": {},
   "outputs": [],
   "source": [
    "TRAIN_SM_DIR = \"train_rgb_normalized\"\n",
    "TEST_SM_DIR = \"test_rgb_normalized\""
   ]
  },
  {
   "cell_type": "code",
   "execution_count": 12,
   "metadata": {},
   "outputs": [],
   "source": [
    "os.makedirs(TRAIN_SM_DIR)"
   ]
  },
  {
   "cell_type": "code",
   "execution_count": 13,
   "metadata": {},
   "outputs": [],
   "source": [
    "def image_transformation(img):\n",
    "  \n",
    "    # Local Histogram Equalization \n",
    "    equalized_img = skimage.exposure.equalize_hist(img)\n",
    "\n",
    "   \n",
    "    return equalized_img\n"
   ]
  },
  {
   "cell_type": "code",
   "execution_count": 14,
   "metadata": {},
   "outputs": [
    {
     "data": {
      "text/plain": [
       "'\\nclass_dirs = os.listdir(TRAIN_DIR_PATH)\\n\\ni = 0\\n\\nfor class_name in class_dirs:\\n    file_names = os.listdir(f\"{TRAIN_DIR_PATH}/{class_name}\")\\n    file_names = [fn for fn in file_names if \".csv\" not in fn]\\n    #print(file_names)\\n    DESTINATION_CLASS=f\"{TRAIN_SM_DIR}/{class_name}\"\\n    \\n    if not os.path.exists(DESTINATION_CLASS):\\n        os.makedirs(DESTINATION_CLASS)\\n\\n    if i >= 20:\\n        for filename in file_names:\\n            img_path = f\"{TRAIN_DIR_PATH}/{class_name}/{filename}\"\\n            img = cv2.imread(img_path)\\n            img = cv2.cvtColor(img, cv2.COLOR_BGR2RGB)\\n\\n            eq = image_transformation(img)\\n\\n        \\n\\n            fig, axes = plt.subplots(nrows=2, ncols=2,sharex=True, sharey=True, figsize=(10, 10))\\n            ax = axes.ravel()\\n            ax[0].imshow(img)\\n            ax[0].set_title(\\'original image\\')\\n            ax[1].imshow(eq)\\n            ax[1].set_title(\\'local histogram normalized image\\')\\n\\n           \\n\\n    i+= 1\\n    if i >= 22:\\n            break\\n\\n        #img = cv2.normalize(img, None, 0, 1, cv2.NORM_MINMAX)\\n\\n'"
      ]
     },
     "execution_count": 14,
     "metadata": {},
     "output_type": "execute_result"
    }
   ],
   "source": [
    "'''\n",
    "class_dirs = os.listdir(TRAIN_DIR_PATH)\n",
    "\n",
    "i = 0\n",
    "\n",
    "for class_name in class_dirs:\n",
    "    file_names = os.listdir(f\"{TRAIN_DIR_PATH}/{class_name}\")\n",
    "    file_names = [fn for fn in file_names if \".csv\" not in fn]\n",
    "    #print(file_names)\n",
    "    DESTINATION_CLASS=f\"{TRAIN_SM_DIR}/{class_name}\"\n",
    "    \n",
    "    if not os.path.exists(DESTINATION_CLASS):\n",
    "        os.makedirs(DESTINATION_CLASS)\n",
    "\n",
    "    if i >= 20:\n",
    "        for filename in file_names:\n",
    "            img_path = f\"{TRAIN_DIR_PATH}/{class_name}/{filename}\"\n",
    "            img = cv2.imread(img_path)\n",
    "            img = cv2.cvtColor(img, cv2.COLOR_BGR2RGB)\n",
    "\n",
    "            eq = image_transformation(img)\n",
    "\n",
    "        \n",
    "\n",
    "            fig, axes = plt.subplots(nrows=2, ncols=2,sharex=True, sharey=True, figsize=(10, 10))\n",
    "            ax = axes.ravel()\n",
    "            ax[0].imshow(img)\n",
    "            ax[0].set_title('original image')\n",
    "            ax[1].imshow(eq)\n",
    "            ax[1].set_title('local histogram normalized image')\n",
    "\n",
    "           \n",
    "\n",
    "    i+= 1\n",
    "    if i >= 22:\n",
    "            break\n",
    "\n",
    "        #img = cv2.normalize(img, None, 0, 1, cv2.NORM_MINMAX)\n",
    "\n",
    "'''"
   ]
  },
  {
   "cell_type": "code",
   "execution_count": 15,
   "metadata": {},
   "outputs": [],
   "source": [
    "class_dirs = os.listdir(TRAIN_DIR_PATH)\n",
    "\n",
    "\n",
    "for class_name in class_dirs:\n",
    "    file_names = os.listdir(f\"{TRAIN_DIR_PATH}/{class_name}\")\n",
    "    file_names = [fn for fn in file_names if \".csv\" not in fn]\n",
    "    #print(file_names)\n",
    "    DESTINATION_CLASS=f\"{TRAIN_SM_DIR}/{class_name}\"\n",
    "    \n",
    "    if not os.path.exists(DESTINATION_CLASS):\n",
    "        os.makedirs(DESTINATION_CLASS)\n",
    "\n",
    "    for filename in file_names:\n",
    "        img_path = f\"{TRAIN_DIR_PATH}/{class_name}/{filename}\"\n",
    "        \n",
    "        img = cv2.imread(img_path)\n",
    "        img = cv2.cvtColor(img, cv2.COLOR_BGR2RGB)\n",
    "        img = image_transformation(img)\n",
    "\n",
    "        plt.imsave(f\"{DESTINATION_CLASS}/{filename}\", img)"
   ]
  },
  {
   "cell_type": "code",
   "execution_count": 16,
   "metadata": {},
   "outputs": [],
   "source": [
    "os.makedirs(TEST_SM_DIR)"
   ]
  },
  {
   "cell_type": "code",
   "execution_count": 17,
   "metadata": {},
   "outputs": [],
   "source": [
    "class_dirs = os.listdir(TEST_DIR_PATH)\n",
    "\n",
    "\n",
    "for class_name in class_dirs:\n",
    "    file_names = os.listdir(f\"{TEST_DIR_PATH}/{class_name}\")\n",
    "    file_names = [fn for fn in file_names if \".csv\" not in fn]\n",
    "    #print(file_names)\n",
    "    DESTINATION_CLASS=f\"{TEST_SM_DIR}/{class_name}\"\n",
    "    \n",
    "    if not os.path.exists(DESTINATION_CLASS):\n",
    "        os.makedirs(DESTINATION_CLASS)\n",
    "\n",
    "    for filename in file_names:\n",
    "        img_path = f\"{TEST_DIR_PATH}/{class_name}/{filename}\"\n",
    "        \n",
    "        img = cv2.imread(img_path)\n",
    "        img = cv2.cvtColor(img, cv2.COLOR_BGR2RGB)\n",
    "        img = image_transformation(img)\n",
    "        \n",
    "        plt.imsave(f\"{DESTINATION_CLASS}/{filename}\", img)"
   ]
  }
 ],
 "metadata": {
  "interpreter": {
   "hash": "ca2864e06efd05cb3ea7c56dc44f235c3621b5bb7c6ad3cd0b10871882970336"
  },
  "kernelspec": {
   "display_name": "Python 3.9.12 ('deeplearning_v2')",
   "language": "python",
   "name": "python3"
  },
  "language_info": {
   "codemirror_mode": {
    "name": "ipython",
    "version": 3
   },
   "file_extension": ".py",
   "mimetype": "text/x-python",
   "name": "python",
   "nbconvert_exporter": "python",
   "pygments_lexer": "ipython3",
   "version": "3.9.12"
  },
  "orig_nbformat": 4
 },
 "nbformat": 4,
 "nbformat_minor": 2
}
