{
 "cells": [
  {
   "cell_type": "code",
   "execution_count": 15,
   "metadata": {},
   "outputs": [],
   "source": [
    "import tensorflow as tf\n",
    "import numpy as np\n",
    "import pathlib\n",
    "import os\n",
    "import matplotlib.pyplot as plt\n",
    "import cv2\n",
    "from skimage.filters import roberts, sobel\n",
    "from skimage import color, data, restoration\n",
    "from scipy.signal import convolve2d as conv2\n",
    "import math\n",
    "IMG_SIZE = 32\n",
    "BATCH_SIZE = 64\n",
    "\n",
    "TRAIN_DIR_PATH = \"train\"\n",
    "TEST_DIR_PATH = \"test\""
   ]
  },
  {
   "cell_type": "code",
   "execution_count": 16,
   "metadata": {},
   "outputs": [],
   "source": [
    "def gaussian_kernel(dimension):\n",
    "    #sigma = 0.3*((dimension-1)*0.5 - 1) + 0.8\n",
    "    sigma = dimension/(2*math.pi)\n",
    "    x = cv2.getGaussianKernel(dimension, -1)\n",
    "    kernel = x.dot(x.T)\n",
    "    return kernel\n",
    "\n",
    "k1 = gaussian_kernel(3)\n",
    "k4 = gaussian_kernel(9)\n",
    "\n"
   ]
  },
  {
   "cell_type": "code",
   "execution_count": 17,
   "metadata": {},
   "outputs": [],
   "source": [
    "def filt(img):\n",
    "\n",
    "    gray = cv2.cvtColor(img, cv2.COLOR_BGR2GRAY)\n",
    "    \n",
    "\n",
    "    res1 = cv2.filter2D(gray, -1, k1)\n",
    "    res4 = cv2.filter2D(gray, -1, k4)\n",
    "\n",
    "    resa = res4 - res1\n",
    "\n",
    "    return resa"
   ]
  },
  {
   "cell_type": "code",
   "execution_count": 18,
   "metadata": {},
   "outputs": [],
   "source": [
    "TRAIN_SM_DIR = \"train_countours_other\"\n",
    "TEST_SM_DIR = \"test_contours_other\""
   ]
  },
  {
   "cell_type": "code",
   "execution_count": 19,
   "metadata": {},
   "outputs": [],
   "source": [
    "os.makedirs(TRAIN_SM_DIR)"
   ]
  },
  {
   "cell_type": "code",
   "execution_count": 20,
   "metadata": {},
   "outputs": [],
   "source": [
    "class_dirs = os.listdir(TRAIN_DIR_PATH)\n",
    "\n",
    "\n",
    "for class_name in class_dirs:\n",
    "    file_names = os.listdir(f\"{TRAIN_DIR_PATH}/{class_name}\")\n",
    "    file_names = [fn for fn in file_names if \".csv\" not in fn]\n",
    "    #print(file_names)\n",
    "    DESTINATION_CLASS=f\"{TRAIN_SM_DIR}/{class_name}\"\n",
    "    \n",
    "    if not os.path.exists(DESTINATION_CLASS):\n",
    "        os.makedirs(DESTINATION_CLASS)\n",
    "\n",
    "    for filename in file_names:\n",
    "        img_path = f\"{TRAIN_DIR_PATH}/{class_name}/{filename}\"\n",
    "        #print(img_path)\n",
    "        img = cv2.imread(img_path)\n",
    "        img = np.float32(img)/255.0\n",
    "        img = filt(img)\n",
    "\n",
    "        cv2.imwrite(f\"{DESTINATION_CLASS}/{filename}.png\", 255.0*img)\n",
    "       "
   ]
  },
  {
   "cell_type": "code",
   "execution_count": 21,
   "metadata": {},
   "outputs": [],
   "source": [
    "os.makedirs(TEST_SM_DIR)"
   ]
  },
  {
   "cell_type": "code",
   "execution_count": 22,
   "metadata": {},
   "outputs": [],
   "source": [
    "class_dirs = os.listdir(TEST_DIR_PATH)\n",
    "\n",
    "\n",
    "for class_name in class_dirs:\n",
    "    file_names = os.listdir(f\"{TEST_DIR_PATH}/{class_name}\")\n",
    "    file_names = [fn for fn in file_names if \".csv\" not in fn]\n",
    "    #print(file_names)\n",
    "    DESTINATION_CLASS=f\"{TEST_SM_DIR}/{class_name}\"\n",
    "    \n",
    "    if not os.path.exists(DESTINATION_CLASS):\n",
    "        os.makedirs(DESTINATION_CLASS)\n",
    "\n",
    "    for filename in file_names:\n",
    "        img_path = f\"{TEST_DIR_PATH}/{class_name}/{filename}\"\n",
    "        #print(img_path)\n",
    "        img = cv2.imread(img_path)\n",
    "        img = np.float32(img) / 255.0\n",
    "        img = filt(img)\n",
    "\n",
    "\n",
    "        cv2.imwrite(f\"{DESTINATION_CLASS}/{filename}.png\", 255.0*img)"
   ]
  }
 ],
 "metadata": {
  "interpreter": {
   "hash": "ca2864e06efd05cb3ea7c56dc44f235c3621b5bb7c6ad3cd0b10871882970336"
  },
  "kernelspec": {
   "display_name": "Python 3.9.12 ('deeplearning_v2')",
   "language": "python",
   "name": "python3"
  },
  "language_info": {
   "codemirror_mode": {
    "name": "ipython",
    "version": 3
   },
   "file_extension": ".py",
   "mimetype": "text/x-python",
   "name": "python",
   "nbconvert_exporter": "python",
   "pygments_lexer": "ipython3",
   "version": "3.9.12"
  },
  "orig_nbformat": 4
 },
 "nbformat": 4,
 "nbformat_minor": 2
}
