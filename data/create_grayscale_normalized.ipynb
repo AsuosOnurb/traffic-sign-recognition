{
 "cells": [
  {
   "cell_type": "code",
   "execution_count": null,
   "metadata": {},
   "outputs": [],
   "source": [
    "import tensorflow as tf\n",
    "import numpy as np\n",
    "import pathlib\n",
    "import os\n",
    "import matplotlib.pyplot as plt\n",
    "import cv2\n",
    "import skimage\n",
    "from skimage import color, data, restoration\n",
    "from scipy.signal import convolve2d as conv2\n",
    "IMG_SIZE = 32\n",
    "BATCH_SIZE = 64\n",
    "\n",
    "TRAIN_DIR_PATH = \"train\"\n",
    "TEST_DIR_PATH = \"test\""
   ]
  },
  {
   "cell_type": "code",
   "execution_count": null,
   "metadata": {},
   "outputs": [],
   "source": [
    "TRAIN_SM_DIR = \"train_grayscale_normalized\"\n",
    "TEST_SM_DIR = \"test_grayscale_normalized\""
   ]
  },
  {
   "cell_type": "code",
   "execution_count": null,
   "metadata": {},
   "outputs": [],
   "source": [
    "os.makedirs(TRAIN_SM_DIR)"
   ]
  },
  {
   "cell_type": "code",
   "execution_count": null,
   "metadata": {},
   "outputs": [],
   "source": [
    "def image_transformation(img):\n",
    "    img = cv2.cvtColor(img, cv2.COLOR_RGB2GRAY)\n",
    "\n",
    "    # Local Histogram Equalization \n",
    "    equalized_img = skimage.exposure.equalize_hist(img)\n",
    "\n",
    "   \n",
    "    return equalized_img\n"
   ]
  },
  {
   "cell_type": "code",
   "execution_count": null,
   "metadata": {},
   "outputs": [],
   "source": [
    "'''\n",
    "class_dirs = os.listdir(TRAIN_DIR_PATH)\n",
    "\n",
    "i = 0\n",
    "\n",
    "for class_name in class_dirs:\n",
    "    file_names = os.listdir(f\"{TRAIN_DIR_PATH}/{class_name}\")\n",
    "    file_names = [fn for fn in file_names if \".csv\" not in fn]\n",
    "    #print(file_names)\n",
    "    DESTINATION_CLASS=f\"{TRAIN_SM_DIR}/{class_name}\"\n",
    "    \n",
    "    if not os.path.exists(DESTINATION_CLASS):\n",
    "        os.makedirs(DESTINATION_CLASS)\n",
    "\n",
    "    for filename in file_names:\n",
    "        img_path = f\"{TRAIN_DIR_PATH}/{class_name}/{filename}\"\n",
    "        img = cv2.imread(img_path)\n",
    "\n",
    "        eq = image_transformation(img)\n",
    "\n",
    "        if i >= 1000:\n",
    "\n",
    "            fig, axes = plt.subplots(nrows=2, ncols=2,\n",
    "                            sharex=True, sharey=True, figsize=(10, 10))\n",
    "\n",
    "            ax = axes.ravel()\n",
    "            ax[0].imshow(eq, cmap=plt.cm.gray)\n",
    "            ax[0].set_title('Unsharp Mask image')\n",
    "            ax[1].imshow(eq, cmap=plt.cm.gray)\n",
    "            ax[1].set_title('No unsharp mask')\n",
    "\n",
    "        i+= 1\n",
    "\n",
    "        if i >= 1300:\n",
    "            break\n",
    "\n",
    "    if i >= 1300:\n",
    "            break\n",
    "\n",
    "        #img = cv2.normalize(img, None, 0, 1, cv2.NORM_MINMAX)\n",
    "\n",
    "'''"
   ]
  },
  {
   "cell_type": "code",
   "execution_count": null,
   "metadata": {},
   "outputs": [],
   "source": [
    "class_dirs = os.listdir(TRAIN_DIR_PATH)\n",
    "\n",
    "\n",
    "for class_name in class_dirs:\n",
    "    file_names = os.listdir(f\"{TRAIN_DIR_PATH}/{class_name}\")\n",
    "    file_names = [fn for fn in file_names if \".csv\" not in fn]\n",
    "    #print(file_names)\n",
    "    DESTINATION_CLASS=f\"{TRAIN_SM_DIR}/{class_name}\"\n",
    "    \n",
    "    if not os.path.exists(DESTINATION_CLASS):\n",
    "        os.makedirs(DESTINATION_CLASS)\n",
    "\n",
    "    for filename in file_names:\n",
    "        img_path = f\"{TRAIN_DIR_PATH}/{class_name}/{filename}\"\n",
    "        \n",
    "        img = cv2.imread(img_path)\n",
    "\n",
    "        img = image_transformation(img)\n",
    "\n",
    "        plt.imsave(f\"{DESTINATION_CLASS}/{filename}\", img, cmap = plt.cm.gray)"
   ]
  },
  {
   "cell_type": "code",
   "execution_count": null,
   "metadata": {},
   "outputs": [],
   "source": [
    "os.makedirs(TEST_SM_DIR)"
   ]
  },
  {
   "cell_type": "code",
   "execution_count": null,
   "metadata": {},
   "outputs": [],
   "source": [
    "class_dirs = os.listdir(TEST_DIR_PATH)\n",
    "\n",
    "\n",
    "for class_name in class_dirs:\n",
    "    file_names = os.listdir(f\"{TEST_DIR_PATH}/{class_name}\")\n",
    "    file_names = [fn for fn in file_names if \".csv\" not in fn]\n",
    "    #print(file_names)\n",
    "    DESTINATION_CLASS=f\"{TEST_SM_DIR}/{class_name}\"\n",
    "    \n",
    "    if not os.path.exists(DESTINATION_CLASS):\n",
    "        os.makedirs(DESTINATION_CLASS)\n",
    "\n",
    "    for filename in file_names:\n",
    "        img_path = f\"{TEST_DIR_PATH}/{class_name}/{filename}\"\n",
    "        \n",
    "        img = cv2.imread(img_path)\n",
    "\n",
    "        img = image_transformation(img)\n",
    "        \n",
    "        plt.imsave(f\"{DESTINATION_CLASS}/{filename}\", img, cmap = plt.cm.gray)"
   ]
  }
 ],
 "metadata": {
  "interpreter": {
   "hash": "ca2864e06efd05cb3ea7c56dc44f235c3621b5bb7c6ad3cd0b10871882970336"
  },
  "kernelspec": {
   "display_name": "Python 3.9.12 ('deeplearning_v2')",
   "language": "python",
   "name": "python3"
  },
  "language_info": {
   "codemirror_mode": {
    "name": "ipython",
    "version": 3
   },
   "file_extension": ".py",
   "mimetype": "text/x-python",
   "name": "python",
   "nbconvert_exporter": "python",
   "pygments_lexer": "ipython3",
   "version": "3.9.12"
  },
  "orig_nbformat": 4
 },
 "nbformat": 4,
 "nbformat_minor": 2
}
