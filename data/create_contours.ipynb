{
 "cells": [
  {
   "cell_type": "code",
   "execution_count": 1,
   "metadata": {},
   "outputs": [],
   "source": [
    "import tensorflow as tf\n",
    "import numpy as np\n",
    "import pathlib\n",
    "import os\n",
    "import matplotlib.pyplot as plt\n",
    "import cv2\n",
    "from skimage.filters import roberts, sobel\n",
    "from skimage import color, data, restoration\n",
    "from scipy.signal import convolve2d as conv2\n",
    "IMG_SIZE = 32\n",
    "BATCH_SIZE = 64\n",
    "\n",
    "TRAIN_DIR_PATH = \"train\"\n",
    "TEST_DIR_PATH = \"test\""
   ]
  },
  {
   "cell_type": "code",
   "execution_count": 7,
   "metadata": {},
   "outputs": [],
   "source": [
    "TRAIN_SM_DIR = \"train_contours\"\n",
    "TEST_SM_DIR = \"test_contours\""
   ]
  },
  {
   "cell_type": "code",
   "execution_count": 3,
   "metadata": {},
   "outputs": [],
   "source": [
    "os.makedirs(TRAIN_SM_DIR)"
   ]
  },
  {
   "cell_type": "code",
   "execution_count": 4,
   "metadata": {},
   "outputs": [],
   "source": [
    "class_dirs = os.listdir(TRAIN_DIR_PATH)\n",
    "\n",
    "\n",
    "for class_name in class_dirs:\n",
    "    file_names = os.listdir(f\"{TRAIN_DIR_PATH}/{class_name}\")\n",
    "    file_names = [fn for fn in file_names if \".csv\" not in fn]\n",
    "    #print(file_names)\n",
    "    DESTINATION_CLASS=f\"{TRAIN_SM_DIR}/{class_name}\"\n",
    "    \n",
    "    if not os.path.exists(DESTINATION_CLASS):\n",
    "        os.makedirs(DESTINATION_CLASS)\n",
    "\n",
    "    for filename in file_names:\n",
    "        img_path = f\"{TRAIN_DIR_PATH}/{class_name}/{filename}\"\n",
    "        #print(img_path)\n",
    "        img = cv2.imread(img_path, cv2.IMREAD_GRAYSCALE)\n",
    "        img = np.float32(img)/255.0\n",
    "        img = cv2.bilateralFilter(img, 5, 10, 20)\n",
    "        img = sobel(img)\n",
    "\n",
    "        cv2.imwrite(f\"{DESTINATION_CLASS}/{filename}.png\", 255.0*img)\n",
    "       "
   ]
  },
  {
   "cell_type": "code",
   "execution_count": 5,
   "metadata": {},
   "outputs": [],
   "source": [
    "os.makedirs(TEST_SM_DIR)"
   ]
  },
  {
   "cell_type": "code",
   "execution_count": 6,
   "metadata": {},
   "outputs": [],
   "source": [
    "class_dirs = os.listdir(TEST_DIR_PATH)\n",
    "\n",
    "\n",
    "for class_name in class_dirs:\n",
    "    file_names = os.listdir(f\"{TEST_DIR_PATH}/{class_name}\")\n",
    "    file_names = [fn for fn in file_names if \".csv\" not in fn]\n",
    "    #print(file_names)\n",
    "    DESTINATION_CLASS=f\"{TEST_SM_DIR}/{class_name}\"\n",
    "    \n",
    "    if not os.path.exists(DESTINATION_CLASS):\n",
    "        os.makedirs(DESTINATION_CLASS)\n",
    "\n",
    "    for filename in file_names:\n",
    "        img_path = f\"{TEST_DIR_PATH}/{class_name}/{filename}\"\n",
    "        #print(img_path)\n",
    "        img = cv2.imread(img_path, cv2.IMREAD_GRAYSCALE)\n",
    "        img = np.float32(img) / 255.0\n",
    "        img = cv2.bilateralFilter(img, 5, 10, 20)\n",
    "        img = sobel(img)\n",
    "\n",
    "\n",
    "        cv2.imwrite(f\"{DESTINATION_CLASS}/{filename}.png\", 255.0*img)"
   ]
  }
 ],
 "metadata": {
  "interpreter": {
   "hash": "ca2864e06efd05cb3ea7c56dc44f235c3621b5bb7c6ad3cd0b10871882970336"
  },
  "kernelspec": {
   "display_name": "Python 3.9.12 ('deeplearning_v2')",
   "language": "python",
   "name": "python3"
  },
  "language_info": {
   "codemirror_mode": {
    "name": "ipython",
    "version": 3
   },
   "file_extension": ".py",
   "mimetype": "text/x-python",
   "name": "python",
   "nbconvert_exporter": "python",
   "pygments_lexer": "ipython3",
   "version": "3.9.12"
  },
  "orig_nbformat": 4
 },
 "nbformat": 4,
 "nbformat_minor": 2
}
